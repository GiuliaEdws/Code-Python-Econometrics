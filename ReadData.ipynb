{
 "cells": [
  {
   "cell_type": "code",
   "execution_count": 3,
   "metadata": {
    "collapsed": false
   },
   "outputs": [
    {
     "name": "stdout",
     "output_type": "stream",
     "text": [
      "The Cython extension is already loaded. To reload it, use:\n",
      "  %reload_ext Cython\n"
     ]
    }
   ],
   "source": [
    "import pandas as pd\n",
    "import numpy as np\n",
    "import re #for regexs\n",
    "import io #for chunk reading files\n",
    "import os #For making directories\n",
    "os.chdir(\"/Users/tesarylin/Box Sync/Data/AmazonItemData\") "
   ]
  },
  {
   "cell_type": "markdown",
   "metadata": {},
   "source": [
    "# 1. Reading Files in Chunks"
   ]
  },
  {
   "cell_type": "code",
   "execution_count": 13,
   "metadata": {
    "collapsed": false
   },
   "outputs": [
    {
     "data": {
      "text/html": [
       "<div>\n",
       "<table border=\"1\" class=\"dataframe\">\n",
       "  <thead>\n",
       "    <tr style=\"text-align: right;\">\n",
       "      <th></th>\n",
       "      <th>Unnamed: 0</th>\n",
       "      <th>asin</th>\n",
       "      <th>categories</th>\n",
       "      <th>price</th>\n",
       "    </tr>\n",
       "  </thead>\n",
       "  <tbody>\n",
       "    <tr>\n",
       "      <th>0</th>\n",
       "      <td>1271.0</td>\n",
       "      <td>B004PLPYGU</td>\n",
       "      <td>[['Apps for Android', 'Kids']]</td>\n",
       "      <td>3.99</td>\n",
       "    </tr>\n",
       "    <tr>\n",
       "      <th>1</th>\n",
       "      <td>2564.0</td>\n",
       "      <td>B004V4SLZ2</td>\n",
       "      <td>[['Apps for Android', 'Novelty']]</td>\n",
       "      <td>1.00</td>\n",
       "    </tr>\n",
       "    <tr>\n",
       "      <th>2</th>\n",
       "      <td>2829.0</td>\n",
       "      <td>B004VMVTNU</td>\n",
       "      <td>[['Apps for Android', 'Utilities', 'Alarms &amp; C...</td>\n",
       "      <td>1.99</td>\n",
       "    </tr>\n",
       "    <tr>\n",
       "      <th>3</th>\n",
       "      <td>5467.0</td>\n",
       "      <td>B0058P7KUA</td>\n",
       "      <td>[['Apps for Android', 'Games']]</td>\n",
       "      <td>0.99</td>\n",
       "    </tr>\n",
       "    <tr>\n",
       "      <th>4</th>\n",
       "      <td>5737.0</td>\n",
       "      <td>B005CQLKGK</td>\n",
       "      <td>[['Apps for Android', 'Travel']]</td>\n",
       "      <td>2.99</td>\n",
       "    </tr>\n",
       "  </tbody>\n",
       "</table>\n",
       "</div>"
      ],
      "text/plain": [
       "   Unnamed: 0        asin                                         categories  \\\n",
       "0      1271.0  B004PLPYGU                     [['Apps for Android', 'Kids']]   \n",
       "1      2564.0  B004V4SLZ2                  [['Apps for Android', 'Novelty']]   \n",
       "2      2829.0  B004VMVTNU  [['Apps for Android', 'Utilities', 'Alarms & C...   \n",
       "3      5467.0  B0058P7KUA                    [['Apps for Android', 'Games']]   \n",
       "4      5737.0  B005CQLKGK                   [['Apps for Android', 'Travel']]   \n",
       "\n",
       "   price  \n",
       "0   3.99  \n",
       "1   1.00  \n",
       "2   1.99  \n",
       "3   0.99  \n",
       "4   2.99  "
      ]
     },
     "execution_count": 13,
     "metadata": {},
     "output_type": "execute_result"
    }
   ],
   "source": [
    "## shows an example below:\n",
    "\n",
    "reader = pd.read_csv(\"df_meta_p.csv\", chunksize = 10)\n",
    "DF = pd.DataFrame({'asin' : [], 'categories' : [], 'price' : []})\n",
    "\n",
    "for chunk in reader:\n",
    "    DF = DF.append(chunk)\n",
    "\n",
    "DF.head()"
   ]
  },
  {
   "cell_type": "code",
   "execution_count": 28,
   "metadata": {
    "collapsed": false
   },
   "outputs": [
    {
     "data": {
      "text/html": [
       "<div>\n",
       "<table border=\"1\" class=\"dataframe\">\n",
       "  <thead>\n",
       "    <tr style=\"text-align: right;\">\n",
       "      <th></th>\n",
       "      <th>Unnamed: 0</th>\n",
       "      <th>asin</th>\n",
       "      <th>categories</th>\n",
       "      <th>price</th>\n",
       "    </tr>\n",
       "  </thead>\n",
       "  <tbody>\n",
       "    <tr>\n",
       "      <th>0</th>\n",
       "      <td>1271.0</td>\n",
       "      <td>B004PLPYGU</td>\n",
       "      <td>[['Apps for Android', 'Kids']]</td>\n",
       "      <td>3.99</td>\n",
       "    </tr>\n",
       "    <tr>\n",
       "      <th>0</th>\n",
       "      <td>8446.0</td>\n",
       "      <td>B0067QYJGC</td>\n",
       "      <td>[['Apps for Android', 'Books &amp; Comics', \"Child...</td>\n",
       "      <td>3.99</td>\n",
       "    </tr>\n",
       "    <tr>\n",
       "      <th>0</th>\n",
       "      <td>48249.0</td>\n",
       "      <td>B00GME1KM0</td>\n",
       "      <td>[['Apps for Android', 'Kids']]</td>\n",
       "      <td>3.99</td>\n",
       "    </tr>\n",
       "    <tr>\n",
       "      <th>0</th>\n",
       "      <td>50859.0</td>\n",
       "      <td>B00HEVLBBK</td>\n",
       "      <td>[['Apps for Android', 'Kids']]</td>\n",
       "      <td>3.99</td>\n",
       "    </tr>\n",
       "    <tr>\n",
       "      <th>0</th>\n",
       "      <td>59211.0</td>\n",
       "      <td>B00K1UNZN8</td>\n",
       "      <td>[['Apps for Android', 'Games']]</td>\n",
       "      <td>3.99</td>\n",
       "    </tr>\n",
       "  </tbody>\n",
       "</table>\n",
       "</div>"
      ],
      "text/plain": [
       "   Unnamed: 0        asin                                         categories  \\\n",
       "0      1271.0  B004PLPYGU                     [['Apps for Android', 'Kids']]   \n",
       "0      8446.0  B0067QYJGC  [['Apps for Android', 'Books & Comics', \"Child...   \n",
       "0     48249.0  B00GME1KM0                     [['Apps for Android', 'Kids']]   \n",
       "0     50859.0  B00HEVLBBK                     [['Apps for Android', 'Kids']]   \n",
       "0     59211.0  B00K1UNZN8                    [['Apps for Android', 'Games']]   \n",
       "\n",
       "   price  \n",
       "0   3.99  \n",
       "0   3.99  \n",
       "0   3.99  \n",
       "0   3.99  \n",
       "0   3.99  "
      ]
     },
     "execution_count": 28,
     "metadata": {},
     "output_type": "execute_result"
    }
   ],
   "source": [
    "## Reading files that only satisfy certain conditions\n",
    "\n",
    "DF = pd.DataFrame({'asin' : [], 'categories' : [], 'price' : []})\n",
    "\n",
    "reader = pd.read_csv(\"df_meta_p.csv\", chunksize = 1)\n",
    "for chunk in reader:\n",
    "    if chunk['price'][0]==3.99:  #[0] should be present b/c chunk is a dataframe\n",
    "        DF = DF.append(chunk)\n",
    "\n",
    "DF.head()"
   ]
  },
  {
   "cell_type": "code",
   "execution_count": null,
   "metadata": {
    "collapsed": true
   },
   "outputs": [],
   "source": [
    "# Read lines from texts:\n",
    "with open(example_text_file, encoding='utf-8') as f:\n",
    "    print(f.read())"
   ]
  }
 ],
 "metadata": {
  "kernelspec": {
   "display_name": "Python 3",
   "language": "python",
   "name": "python3"
  },
  "language_info": {
   "codemirror_mode": {
    "name": "ipython",
    "version": 3
   },
   "file_extension": ".py",
   "mimetype": "text/x-python",
   "name": "python",
   "nbconvert_exporter": "python",
   "pygments_lexer": "ipython3",
   "version": "3.5.2"
  }
 },
 "nbformat": 4,
 "nbformat_minor": 0
}
