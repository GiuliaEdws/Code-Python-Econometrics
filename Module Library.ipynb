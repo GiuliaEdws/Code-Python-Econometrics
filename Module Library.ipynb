{
 "cells": [
  {
   "cell_type": "code",
   "execution_count": 1,
   "metadata": {
    "collapsed": false
   },
   "outputs": [
    {
     "name": "stderr",
     "output_type": "stream",
     "text": [
      "/Users/macuser/anaconda/lib/python3.4/site-packages/pandas/computation/__init__.py:19: UserWarning: The installed version of numexpr 2.4.4 is not supported in pandas and will be not be used\n",
      "\n",
      "  UserWarning)\n"
     ]
    }
   ],
   "source": [
    "# Preamble\n",
    "\n",
    "import os\n",
    "import numpy as np\n",
    "import pandas as pd\n",
    "import scipy as sp\n",
    "import matplotlib.pyplot as plt\n",
    "plt.style.use('ggplot')\n",
    "%matplotlib inline  \n",
    "\n",
    "#os.chdir(\"/Users/macuser/Downloads/[ML]\") "
   ]
  },
  {
   "cell_type": "code",
   "execution_count": null,
   "metadata": {
    "collapsed": true
   },
   "outputs": [],
   "source": [
    "# Read Data\n",
    "\n",
    "df = pd.read_csv(dataname)\n",
    "#df = pd.read_excel(dataname, sheetname=page)\n",
    "\n",
    "print ('Data has {} rows and {} columns'.format(df.shape))"
   ]
  },
  {
   "cell_type": "code",
   "execution_count": null,
   "metadata": {
    "collapsed": true
   },
   "outputs": [],
   "source": [
    "# Look at columns\n",
    "\n",
    "df.columns.values\n",
    "\n",
    "## Optional: replace column names"
   ]
  },
  {
   "cell_type": "code",
   "execution_count": null,
   "metadata": {
    "collapsed": true
   },
   "outputs": [],
   "source": [
    "# Duplicates and Missing Values\n",
    "\n",
    "print('Number of duplicated observations:', df.duplicated().sum())\n",
    "print('Number of missing values:', df['ref_domain_name'].isnull().sum())\n",
    "\n",
    "\n",
    "## Optional: trim data based on duplicates and missing values\n",
    "#df.drop_duplicates(inplace=True)\n",
    "#df = df.dropna(['Column1'])"
   ]
  },
  {
   "cell_type": "code",
   "execution_count": null,
   "metadata": {
    "collapsed": true
   },
   "outputs": [],
   "source": [
    "# Describe Variables in Batch:\n",
    "\n",
    "#describe non-numeric values\n",
    "if (df.select_dtypes(include=['object']).shape[1]>0):\n",
    "    des_obj = np.round(df.select_dtypes(include=['object']).describe(), 2).T\n",
    "    print ('Object columns:',des_obj)\n",
    "    \n",
    "#Describe the rest\n",
    "des_num = np.round(df.select_dtypes(exclude=['object']).describe(), 2).T\n",
    "print ('Numeric columns:',des_num)"
   ]
  },
  {
   "cell_type": "code",
   "execution_count": null,
   "metadata": {
    "collapsed": true
   },
   "outputs": [],
   "source": [
    "# Snapshots of all kinds:\n",
    "\n",
    "## Sort:\n",
    "df.sort(['A', 'B'], ascending=[1, 0])\n",
    "\n",
    "## Count values:\n",
    "df['A'].value_counts()\n",
    "# df['A'].value_counts(sort=False)\n",
    "\n",
    "## Row Slicing:\n",
    "df[101:105]\n",
    "## Column slicing by number\n",
    "df.iloc[:,2:4]\n",
    "## Column slicing by label\n",
    "df.loc[:,['ref_domain_name','domain_name']]"
   ]
  },
  {
   "cell_type": "code",
   "execution_count": null,
   "metadata": {
    "collapsed": true
   },
   "outputs": [],
   "source": [
    "# Numerical value manipulation\n",
    "\n",
    "np.round(df['A'], 2)\n",
    "df[log_A] = df[A].apply(lambda x: np.log(x+1))\n",
    "df['A'].quantile([0.05, 0.1, 0.5, 0.9, 0.95])\n",
    "\n",
    "bin = np.linspace(20,110,19)"
   ]
  },
  {
   "cell_type": "code",
   "execution_count": null,
   "metadata": {
    "collapsed": true
   },
   "outputs": [],
   "source": [
    "# Graphic representation\n",
    "\n",
    "bin = np.linspace(0,12,13)\n",
    "plt.hist(df['A'].dropna(),bins=bin)\n",
    "plt.hist(df['A'].dropna(),bins=bin,log=True)"
   ]
  },
  {
   "cell_type": "code",
   "execution_count": null,
   "metadata": {
    "collapsed": true
   },
   "outputs": [],
   "source": [
    "# Relationship across variables\n",
    "\n",
    "## Correlation:\n",
    "df.iloc[:,[3,9,7]].corr()\n",
    "\n",
    "## Summary statistics by group:\n",
    "grouped = df.groupby(['A', 'B'])\n",
    "df.groupby('A').groups\n",
    "len(grouped)\n",
    "\n",
    "grouped.get_group('amazon.com')['basket_tot']\n",
    "grouped.get_group('amazon.com')['basket_tot'].sum()\n",
    "grouped.get_group('amazon.com')['basket_tot'].mean()\n",
    "grouped.get_group('amazon.com')['basket_tot'].std()\n",
    "grouped.get_group('amazon.com')['basket_tot'].boxplot()\n",
    "\n",
    "\n",
    "\n",
    "## apply function to each group (the function inside 'apply' can be user-defined function as well)\n",
    "grouped['A'].apply(lambda x: x.describe())\n",
    "\n",
    "\n",
    "## Cross tabulation (aggfunc example: np.sum, np.std, np.mean,...):\n",
    "table1 = pd.crosstab(df.A, df.B, values=df.C, aggfunc=np.sum)\n",
    "\n",
    "print(table1.to_string(na_rep=''))"
   ]
  },
  {
   "cell_type": "code",
   "execution_count": null,
   "metadata": {
    "collapsed": true
   },
   "outputs": [],
   "source": [
    "# Data Transformation\n",
    "\n",
    "## get dummies and join it to the original df\n",
    "dummies = pd.get_dummies(df['machine_id'], prefix='id')\n",
    "df.join(dummies)\n",
    "\n",
    "## standarlization/scaling\n",
    "\n",
    "## replace missing value\n",
    "\n",
    "## transform dtype (to, e.g. 'float', 'int', 'str', 'category')\n",
    "df[\"col\"].astype(\"category\")"
   ]
  }
 ],
 "metadata": {
  "kernelspec": {
   "display_name": "Python 3",
   "language": "python",
   "name": "python3"
  },
  "language_info": {
   "codemirror_mode": {
    "name": "ipython",
    "version": 3
   },
   "file_extension": ".py",
   "mimetype": "text/x-python",
   "name": "python",
   "nbconvert_exporter": "python",
   "pygments_lexer": "ipython3",
   "version": "3.5.1"
  }
 },
 "nbformat": 4,
 "nbformat_minor": 0
}
