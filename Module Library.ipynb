{
 "cells": [
  {
   "cell_type": "code",
   "execution_count": 1,
   "metadata": {},
   "outputs": [],
   "source": [
    "# Preamble\n",
    "\n",
    "\n",
    "import os\n",
    "import numpy as np\n",
    "import pandas as pd\n",
    "import scipy as sp\n",
    "import matplotlib.pyplot as plt\n",
    "plt.style.use('ggplot')\n",
    "%matplotlib inline  \n",
    "\n",
    "#os.chdir(\"/Users/macuser/Downloads/[ML]\") "
   ]
  },
  {
   "cell_type": "code",
   "execution_count": null,
   "metadata": {
    "collapsed": true
   },
   "outputs": [],
   "source": [
    "# Read Data\n",
    "## Note: read_csv can automatically detect compressed file, and try to decompress it on the fly\n",
    "\n",
    "\n",
    "df = pd.read_csv(dataname)   # for csv\n",
    "# df = pd.read_excel(dataname, sheetname=page)   # for xls\n",
    "# df = pd.read_stata(dataname)    # for dta\n",
    "\n",
    "df.shape"
   ]
  },
  {
   "cell_type": "code",
   "execution_count": null,
   "metadata": {
    "collapsed": true
   },
   "outputs": [],
   "source": [
    "# Look at columns\n",
    "\n",
    "df.columns.values\n",
    "\n",
    "## Optional: replace column names\n",
    "\n",
    "df.rename(index=str, columns={\"Unnamed: 0\": \"ID\"}, inplace = True)"
   ]
  },
  {
   "cell_type": "code",
   "execution_count": null,
   "metadata": {
    "collapsed": true
   },
   "outputs": [],
   "source": [
    "# Find duplicates and Missing Values\n",
    "\n",
    "print('Number of duplicated observations:', df.duplicated().sum())\n",
    "print('Number of missing values:', df['ref_domain_name'].isnull().sum())\n",
    "\n",
    "\n",
    "## Optional: trim data based on duplicates and missing values\n",
    "#df.drop_duplicates(inplace=True)\n",
    "#df = df.dropna(['Column1'])"
   ]
  },
  {
   "cell_type": "code",
   "execution_count": null,
   "metadata": {
    "collapsed": true
   },
   "outputs": [],
   "source": [
    "# Detect common outliers due to self reporting:\n",
    "## Age\n",
    "print(sum(df.age > 122))  ## 122: the longest confirmed human lifespan record\n",
    "print(sum(users.age < 18)) ## can vary, such as eligibility threshold"
   ]
  },
  {
   "cell_type": "code",
   "execution_count": null,
   "metadata": {
    "collapsed": true
   },
   "outputs": [],
   "source": [
    "# Describe Variables in Batch:\n",
    "\n",
    "#describe non-numeric values\n",
    "if (df.select_dtypes(include=['object']).shape[1]>0):\n",
    "    des_obj = np.round(df.select_dtypes(include=['object']).describe(), 2).T\n",
    "    print ('Object columns:',des_obj)\n",
    "    \n",
    "#Describe the rest\n",
    "des_num = np.round(df.select_dtypes(exclude=['object']).describe(), 2).T\n",
    "print ('Numeric columns:',des_num)"
   ]
  },
  {
   "cell_type": "code",
   "execution_count": null,
   "metadata": {
    "collapsed": true
   },
   "outputs": [],
   "source": [
    "# Snapshots of all kinds\n",
    "\n",
    "\n",
    "## Sort:\n",
    "df.sort(['A', 'B'], ascending=[1, 0])\n",
    "\n",
    "## Count values:\n",
    "df['A'].value_counts()\n",
    "# df['A'].value_counts(sort=False)\n",
    "\n",
    "## Visualized value counts:\n",
    "df.gender.value_counts(dropna=False).plot(kind='bar', color='#FD5C64', rot=0)\n",
    "plt.xlabel('Gender')\n",
    "\n",
    "## Row Slicing:\n",
    "df[101:105]\n",
    "## Column slicing by number\n",
    "df.iloc[:,2:4]\n",
    "## Column slicing by label\n",
    "df.loc[:,['ref_domain_name','domain_name']]"
   ]
  },
  {
   "cell_type": "code",
   "execution_count": null,
   "metadata": {
    "collapsed": true
   },
   "outputs": [],
   "source": [
    "# Numerical value manipulation\n",
    "\n",
    "\n",
    "np.round(df['A'], 2)\n",
    "df[log_A] = df[A].apply(lambda x: np.log(x+1))\n",
    "df['A'].quantile([0.05, 0.1, 0.5, 0.9, 0.95])\n",
    "\n",
    "bin = np.linspace(20,110,19)"
   ]
  },
  {
   "cell_type": "code",
   "execution_count": null,
   "metadata": {
    "collapsed": true
   },
   "outputs": [],
   "source": [
    "# Graphic representation\n",
    "\n",
    "\n",
    "bin = np.linspace(0,12,13)\n",
    "plt.hist(df['A'].dropna(),bins=bin)\n",
    "plt.hist(df['A'].dropna(),bins=bin,log=True)"
   ]
  },
  {
   "cell_type": "code",
   "execution_count": null,
   "metadata": {
    "collapsed": true
   },
   "outputs": [],
   "source": [
    "# Relationship across variables\n",
    "\n",
    "\n",
    "## Correlation:\n",
    "df.iloc[:,[3,9,7]].corr()\n",
    "\n",
    "## Summary statistics by group:\n",
    "grouped = df.groupby(['A', 'B'])\n",
    "df.groupby('A').groups\n",
    "len(grouped)\n",
    "\n",
    "grouped.get_group('amazon.com')['basket_tot']\n",
    "grouped.get_group('amazon.com')['basket_tot'].sum()\n",
    "grouped.get_group('amazon.com')['basket_tot'].mean()\n",
    "grouped.get_group('amazon.com')['basket_tot'].std()\n",
    "grouped.get_group('amazon.com')['basket_tot'].boxplot()\n",
    "\n",
    "\n",
    "\n",
    "## apply function to each group (the function inside 'apply' can be user-defined function as well)\n",
    "grouped['A'].apply(lambda x: x.describe())\n",
    "\n",
    "\n",
    "## Cross tabulation (aggfunc example: np.sum, np.std, np.mean,...):\n",
    "table1 = pd.crosstab(df.A, df.B, values=df.C, aggfunc=np.sum)\n",
    "\n",
    "print(table1.to_string(na_rep=''))"
   ]
  },
  {
   "cell_type": "code",
   "execution_count": null,
   "metadata": {
    "collapsed": true
   },
   "outputs": [],
   "source": [
    "# Data Transformation\n",
    "\n",
    "\n",
    "## get dummies and join it to the original df\n",
    "dummies = pd.get_dummies(df['machine_id'], prefix='id')\n",
    "df.join(dummies)\n",
    "\n",
    "## standarlization/scaling\n",
    "\n",
    "## replace missing value\n",
    "df[\"col\"].replace('-unknown-', np.nan, inplace=True)\n",
    "\n",
    "## transform dtype (to, e.g. 'float', 'int', 'str', 'category') in batch:\n",
    "categorical_features = [\n",
    "    'affiliate_channel',\n",
    "    'affiliate_provider',\n",
    "    'country_destination'\n",
    "]\n",
    "\n",
    "for categorical_feature in categorical_features:\n",
    "    df[categorical_feature] = df[categorical_feature].astype('category')\n",
    "    \n",
    "## special transformation: datetime\n",
    "df['date_first_booking'] = pd.to_datetime(df['date_first_booking'])\n",
    "df['date_first_active'] = pd.to_datetime((df.timestamp_first_active // 1000000), format='%Y%m%d')"
   ]
  },
  {
   "cell_type": "code",
   "execution_count": null,
   "metadata": {
    "collapsed": true
   },
   "outputs": [],
   "source": [
    "# Plotting with Seaborn\n",
    "\n",
    "## Bar plot by group (gender in this case; can also do ex post grouping to continuous vars)\n",
    "women = sum(users['gender'] == 'FEMALE')\n",
    "men = sum(users['gender'] == 'MALE')\n",
    "\n",
    "female_destinations = users.loc[users['gender'] == 'FEMALE', 'country_destination'].value_counts() / women * 100\n",
    "male_destinations = users.loc[users['gender'] == 'MALE', 'country_destination'].value_counts() / men * 100\n",
    "\n",
    "width = 0.4\n",
    "\n",
    "male_destinations.plot(kind='bar', width=width, color='#4DD3C9', position=0, label='Male', rot=0)\n",
    "female_destinations.plot(kind='bar', width=width, color='#FFA35D', position=1, label='Female', rot=0)\n",
    "\n",
    "plt.legend()\n",
    "plt.xlabel('Destination Country')\n",
    "plt.ylabel('Percentage')\n",
    "\n",
    "sns.despine()\n",
    "plt.show()\n",
    "\n",
    "\n",
    "## Histogram with density plot\n",
    "sns.distplot(users.age.dropna(), color='#FD5C64')\n",
    "plt.xlabel('Age')\n",
    "sns.despine()\n",
    "\n",
    "## Time series line plot\n",
    "sns.set_style(\"whitegrid\", {'axes.edgecolor': '0'})\n",
    "sns.set_context(\"poster\", font_scale=1.1)\n",
    "users.date_account_created.value_counts().plot(kind='line', linewidth=1.2, color='#FD5C64')"
   ]
  }
 ],
 "metadata": {
  "kernelspec": {
   "display_name": "Python 3",
   "language": "python",
   "name": "python3"
  },
  "language_info": {
   "codemirror_mode": {
    "name": "ipython",
    "version": 3
   },
   "file_extension": ".py",
   "mimetype": "text/x-python",
   "name": "python",
   "nbconvert_exporter": "python",
   "pygments_lexer": "ipython3",
   "version": "3.5.5"
  }
 },
 "nbformat": 4,
 "nbformat_minor": 1
}
