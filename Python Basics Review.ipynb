{
 "cells": [
  {
   "cell_type": "markdown",
   "metadata": {},
   "source": [
    "# Data Analysis in Python\n",
    "\n",
    "\n"
   ]
  },
  {
   "cell_type": "markdown",
   "metadata": {},
   "source": [
    "## 1. Type of containers in Python\n",
    "\n",
    "### Lists\n",
    "\n",
    "* Lists are good when the order matter but there is no label associated with the data\n",
    "* Methods for lists: append, extend, del, remove, sort\n",
    "\n",
    "### Dictionaries\n",
    "\n",
    "* Dictionaries are suitable when data have a unique label, and the order does not matter\n",
    "* Methods: update, del\n",
    "\n",
    "### Comprehensions\n",
    "\n",
    "* Shorthand for writing loops. Examples: "
   ]
  },
  {
   "cell_type": "code",
   "execution_count": 1,
   "metadata": {
    "collapsed": false
   },
   "outputs": [
    {
     "name": "stdout",
     "output_type": "stream",
     "text": [
      "[0, 1, 4, 9, 16, 25, 36, 49, 64, 81] {0: 0, 1: 1, 2: 4, 3: 9, 4: 16, 5: 25, 6: 36, 7: 49, 8: 64, 9: 81} {0: 0, 18: 324, 3: 9, 21: 441, 6: 36, 24: 576, 9: 81, 27: 729, 12: 144, 15: 225}\n"
     ]
    }
   ],
   "source": [
    "list1 = [i**2 for i in range(10)]\n",
    "dict1 = {i: i**2 for i in range(10)}\n",
    "dict2 = {i: i**2 for i in range(30) if i%3== 0 }\n",
    "print(list1,dict1,dict2)\n"
   ]
  },
  {
   "cell_type": "markdown",
   "metadata": {},
   "source": [
    "## 2. Packages and Modules\n",
    "\n",
    "### Numpy\n",
    "\n",
    "* Faster when dealing with lots of data of the same type (numerical); cannot deal with different types\n",
    "* Legitimate types: int, float\n",
    "* Numpy is good at creating special vectors and matrices in a Matlab/R fashion. Examples:"
   ]
  },
  {
   "cell_type": "code",
   "execution_count": 6,
   "metadata": {
    "collapsed": false
   },
   "outputs": [
    {
     "name": "stdout",
     "output_type": "stream",
     "text": [
      "[[ 0.  0.  0.]\n",
      " [ 0.  0.  0.]\n",
      " [ 0.  0.  0.]]\n"
     ]
    }
   ],
   "source": [
    "import numpy as np\n",
    "#print(np.zeros((3,3),'d'))"
   ]
  },
  {
   "cell_type": "code",
   "execution_count": 8,
   "metadata": {
    "collapsed": false
   },
   "outputs": [
    {
     "name": "stdout",
     "output_type": "stream",
     "text": [
      "[  0.    2.5   5.    7.5  10. ]\n"
     ]
    }
   ],
   "source": [
    "print(np.linspace(0,10,5))"
   ]
  },
  {
   "cell_type": "code",
   "execution_count": 9,
   "metadata": {
    "collapsed": false
   },
   "outputs": [
    {
     "name": "stdout",
     "output_type": "stream",
     "text": [
      "[0 2 4 6 8]\n"
     ]
    }
   ],
   "source": [
    "print(np.arange(0,10,2))"
   ]
  },
  {
   "cell_type": "code",
   "execution_count": 13,
   "metadata": {
    "collapsed": false
   },
   "outputs": [
    {
     "name": "stdout",
     "output_type": "stream",
     "text": [
      "[[-0.06975694  1.37733576  1.35501899]\n",
      " [-0.09499279 -0.53974045  0.73653713]\n",
      " [ 0.22177781 -1.16348898 -0.39544124]\n",
      " [ 1.18731143  0.23417283  0.10172748]]\n",
      "[[-0.06975694  1.37733576  1.35501899  0.22177781 -1.16348898 -0.39544124]\n",
      " [-0.09499279 -0.53974045  0.73653713  1.18731143  0.23417283  0.10172748]]\n"
     ]
    }
   ],
   "source": [
    "list1 = np.random.standard_normal([2,3])\n",
    "list2 = np.random.standard_normal([2,3])\n",
    "test1 = np.vstack([list1, list2])\n",
    "test2 = np.hstack([list1, list2])\n",
    "print(test1)\n",
    "print(test2)"
   ]
  },
  {
   "cell_type": "markdown",
   "metadata": {},
   "source": [
    "Numpy arrays can be saved and loaded by the following commands:\n",
    "* np.save('test.npy',test1)\n",
    "* loadtest1 = np.load('test.npy')\n",
    "\n",
    "__Warning__: if you create a subset of array from the original, and later revise the subset, then data from the original array is changed as well. This will not be true for lists."
   ]
  },
  {
   "cell_type": "markdown",
   "metadata": {},
   "source": [
    "### Slicing using indexing\n"
   ]
  },
  {
   "cell_type": "code",
   "execution_count": 14,
   "metadata": {
    "collapsed": false
   },
   "outputs": [
    {
     "data": {
      "text/plain": [
       "array([[-0.06975694,  1.35501899, -1.16348898],\n",
       "       [-0.09499279,  0.73653713,  0.23417283]])"
      ]
     },
     "execution_count": 14,
     "metadata": {},
     "output_type": "execute_result"
    }
   ],
   "source": [
    "test2[:,::2] #column indexes that can be divided by 2"
   ]
  },
  {
   "cell_type": "code",
   "execution_count": 15,
   "metadata": {
    "collapsed": false
   },
   "outputs": [
    {
     "data": {
      "text/plain": [
       "array([[-0.06975694,  0.22177781],\n",
       "       [-0.09499279,  1.18731143]])"
      ]
     },
     "execution_count": 15,
     "metadata": {},
     "output_type": "execute_result"
    }
   ],
   "source": [
    "test2[:,::3] #column indexes that can be divided by 3"
   ]
  },
  {
   "cell_type": "code",
   "execution_count": 21,
   "metadata": {
    "collapsed": false
   },
   "outputs": [
    {
     "data": {
      "text/plain": [
       "array([[ 1.35501899,  0.22177781, -1.16348898, -0.39544124],\n",
       "       [ 0.73653713,  1.18731143,  0.23417283,  0.10172748]])"
      ]
     },
     "execution_count": 21,
     "metadata": {},
     "output_type": "execute_result"
    }
   ],
   "source": [
    "test2[:,2:] #column 3 to the end column"
   ]
  },
  {
   "cell_type": "code",
   "execution_count": 22,
   "metadata": {
    "collapsed": false
   },
   "outputs": [
    {
     "data": {
      "text/plain": [
       "array([[ 1.35501899,  0.22177781, -1.16348898],\n",
       "       [ 0.73653713,  1.18731143,  0.23417283]])"
      ]
     },
     "execution_count": 22,
     "metadata": {},
     "output_type": "execute_result"
    }
   ],
   "source": [
    "test2[:,2:-1] #column 3 to the second-to-last column"
   ]
  },
  {
   "cell_type": "markdown",
   "metadata": {},
   "source": [
    "### Pandas: database management module in Python\n",
    "\n",
    "__Series in Pandas:__ think of it as array with dictionaries. Here, \"dict\"s are called indexes. Series can be indexed either by number or by index names. When ambiguity exists, use \"iloc\" to indicate numerical indexing, and \"loc\" to indicate index-name indexing. Example:"
   ]
  },
  {
   "cell_type": "code",
   "execution_count": 2,
   "metadata": {
    "collapsed": false
   },
   "outputs": [],
   "source": [
    "import pandas as pd\n",
    "\n",
    "ser1 = pd.Series({\"A\":\"Nov.\", \"B\":\"Dec.\"})"
   ]
  },
  {
   "cell_type": "code",
   "execution_count": 3,
   "metadata": {
    "collapsed": true
   },
   "outputs": [],
   "source": [
    "ser2 = pd.Series([\"Nov.\", \"Dec.\"], index = [\"A\", \"B\"])"
   ]
  },
  {
   "cell_type": "code",
   "execution_count": 4,
   "metadata": {
    "collapsed": false
   },
   "outputs": [
    {
     "data": {
      "text/plain": [
       "A    True\n",
       "B    True\n",
       "dtype: bool"
      ]
     },
     "execution_count": 4,
     "metadata": {},
     "output_type": "execute_result"
    }
   ],
   "source": [
    "ser1 ==ser2"
   ]
  },
  {
   "cell_type": "code",
   "execution_count": 5,
   "metadata": {
    "collapsed": false
   },
   "outputs": [
    {
     "name": "stdout",
     "output_type": "stream",
     "text": [
      "Dec.\n",
      "Dec.\n"
     ]
    }
   ],
   "source": [
    "print(ser1[1])\n",
    "print(ser2[\"B\"])"
   ]
  },
  {
   "cell_type": "code",
   "execution_count": 6,
   "metadata": {
    "collapsed": false
   },
   "outputs": [
    {
     "name": "stdout",
     "output_type": "stream",
     "text": [
      "Nov.\n",
      "Nov.\n"
     ]
    }
   ],
   "source": [
    "print(ser1.loc[\"A\"])\n",
    "print(ser2.iloc[0])"
   ]
  },
  {
   "cell_type": "markdown",
   "metadata": {},
   "source": [
    "Note that \"loc\" actually includes the end of index when doing slicing, while \"iloc\" does not:"
   ]
  },
  {
   "cell_type": "code",
   "execution_count": 7,
   "metadata": {
    "collapsed": false
   },
   "outputs": [
    {
     "data": {
      "text/plain": [
       "A    Nov.\n",
       "dtype: object"
      ]
     },
     "execution_count": 7,
     "metadata": {},
     "output_type": "execute_result"
    }
   ],
   "source": [
    "ser1.iloc[0:1]"
   ]
  },
  {
   "cell_type": "code",
   "execution_count": 8,
   "metadata": {
    "collapsed": false
   },
   "outputs": [
    {
     "data": {
      "text/plain": [
       "A    Nov.\n",
       "B    Dec.\n",
       "dtype: object"
      ]
     },
     "execution_count": 8,
     "metadata": {},
     "output_type": "execute_result"
    }
   ],
   "source": [
    "ser1.loc[\"A\":\"B\"]"
   ]
  },
  {
   "cell_type": "markdown",
   "metadata": {},
   "source": [
    "__Dataframes in Pandas.__ \n",
    "\n",
    "* Multi-indexing, \"stack\" and \"unstack\": these methods correspond to \"long\" and \"wide\" panel datasets. A stacked dataset is a long one, where both indices are on the left end; an unstacked dataset is a wide one, where one index is on the left while the other is on the top.\n",
    "* By-group aggregation and pivot tables. By-group aggregation is similar to \"aggregate\" in R. Pivot table command is a more convenient wrapper for the same purpose. Syntax:\n",
    "    + df.groupby[\"gender\",\"age\"].mean()\n",
    "    + df[\"sales\"].groupby[\"gender\",\"age\"].mean()\n",
    "    + pd.pivot_table(df, \"sales\", [\"gender\",\"age\"]) \n",
    "The second and third commands will give exactly the same results. Note that if the square bracket in the third command is eliminated, the result table will be in wide rather than long format (thus the name \"pivot table\")."
   ]
  },
  {
   "cell_type": "markdown",
   "metadata": {
    "collapsed": true
   },
   "source": [
    "## 3. Syntax Shortcuts\n",
    "\n",
    "* Multiple assignments: "
   ]
  },
  {
   "cell_type": "code",
   "execution_count": 1,
   "metadata": {
    "collapsed": true
   },
   "outputs": [],
   "source": [
    "test1, test2 = \"A\",\"B\""
   ]
  },
  {
   "cell_type": "markdown",
   "metadata": {},
   "source": [
    "* \"except\": Allowing codes to run despite errors, and print out error messages. See example below. Also see documentation:\n",
    "https://docs.python.org/3/tutorial/errors.html"
   ]
  },
  {
   "cell_type": "code",
   "execution_count": 6,
   "metadata": {
    "collapsed": false
   },
   "outputs": [
    {
     "name": "stdout",
     "output_type": "stream",
     "text": [
      "A\n",
      "System error message: <class 'NameError'>\n",
      "Continue execution\n"
     ]
    }
   ],
   "source": [
    "import sys\n",
    "try: \n",
    "    print(test1)\n",
    "    print(A)\n",
    "except :\n",
    "    print(\"System error message:\", sys.exc_info()[0])\n",
    "    \n",
    "print(\"Continue execution\")    "
   ]
  }
 ],
 "metadata": {
  "kernelspec": {
   "display_name": "Python 3",
   "language": "python",
   "name": "python3"
  },
  "language_info": {
   "codemirror_mode": {
    "name": "ipython",
    "version": 3
   },
   "file_extension": ".py",
   "mimetype": "text/x-python",
   "name": "python",
   "nbconvert_exporter": "python",
   "pygments_lexer": "ipython3",
   "version": "3.4.5"
  }
 },
 "nbformat": 4,
 "nbformat_minor": 0
}
