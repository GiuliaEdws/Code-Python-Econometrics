{
 "cells": [
  {
   "cell_type": "code",
   "execution_count": 3,
   "metadata": {
    "collapsed": false
   },
   "outputs": [],
   "source": [
    "import pandas as pd\n",
    "import numpy as np\n",
    "import re #for regexs\n",
    "import io #for chunk reading files\n",
    "import os #For making directories\n",
    "os.chdir(\"/Users/tesarylin/Box Sync/Data/Sherlock/2016Q3\") "
   ]
  },
  {
   "cell_type": "code",
   "execution_count": 4,
   "metadata": {
    "collapsed": false
   },
   "outputs": [
    {
     "name": "stdout",
     "output_type": "stream",
     "text": [
      "application.7z    moriartyprobe     t0\r\n",
      "apppackages       screenon          t1\r\n",
      "call              sms               userpresentprobe\r\n"
     ]
    }
   ],
   "source": [
    "ls"
   ]
  },
  {
   "cell_type": "markdown",
   "metadata": {},
   "source": [
    "# 1. Read ScreenOn"
   ]
  },
  {
   "cell_type": "code",
   "execution_count": 7,
   "metadata": {
    "collapsed": false
   },
   "outputs": [
    {
     "data": {
      "text/html": [
       "<div>\n",
       "<table border=\"1\" class=\"dataframe\">\n",
       "  <thead>\n",
       "    <tr style=\"text-align: right;\">\n",
       "      <th></th>\n",
       "      <th>userid</th>\n",
       "      <th>uuid</th>\n",
       "      <th>screenon</th>\n",
       "      <th>timestamp</th>\n",
       "    </tr>\n",
       "  </thead>\n",
       "  <tbody>\n",
       "    <tr>\n",
       "      <th>0</th>\n",
       "      <td>aa2e99301a</td>\n",
       "      <td>1467331334563</td>\n",
       "      <td>True</td>\n",
       "      <td>2016-07-01 03:02:14.562</td>\n",
       "    </tr>\n",
       "    <tr>\n",
       "      <th>1</th>\n",
       "      <td>fdbca31c28</td>\n",
       "      <td>1467331452900</td>\n",
       "      <td>True</td>\n",
       "      <td>2016-07-01 03:04:12.893</td>\n",
       "    </tr>\n",
       "    <tr>\n",
       "      <th>2</th>\n",
       "      <td>fdbca31c28</td>\n",
       "      <td>1467331472739</td>\n",
       "      <td>False</td>\n",
       "      <td>2016-07-01 03:04:32.739</td>\n",
       "    </tr>\n",
       "    <tr>\n",
       "      <th>3</th>\n",
       "      <td>aa2e99301a</td>\n",
       "      <td>1467331486518</td>\n",
       "      <td>False</td>\n",
       "      <td>2016-07-01 03:04:46.515</td>\n",
       "    </tr>\n",
       "    <tr>\n",
       "      <th>4</th>\n",
       "      <td>bca57e81a1</td>\n",
       "      <td>1467331636423</td>\n",
       "      <td>True</td>\n",
       "      <td>2016-07-01 03:07:16.423</td>\n",
       "    </tr>\n",
       "  </tbody>\n",
       "</table>\n",
       "</div>"
      ],
      "text/plain": [
       "       userid           uuid screenon                timestamp\n",
       "0  aa2e99301a  1467331334563     True  2016-07-01 03:02:14.562\n",
       "1  fdbca31c28  1467331452900     True  2016-07-01 03:04:12.893\n",
       "2  fdbca31c28  1467331472739    False  2016-07-01 03:04:32.739\n",
       "3  aa2e99301a  1467331486518    False  2016-07-01 03:04:46.515\n",
       "4  bca57e81a1  1467331636423     True  2016-07-01 03:07:16.423"
      ]
     },
     "execution_count": 7,
     "metadata": {},
     "output_type": "execute_result"
    }
   ],
   "source": [
    "## shows an example below:\n",
    "\n",
    "column = ['userid', 'uuid', 'screenon', 'timestamp']\n",
    "DF = pd.read_csv(\"screenon\", sep = \"\\t\", names = column, header = None)\n",
    "\n",
    "DF.head()"
   ]
  },
  {
   "cell_type": "code",
   "execution_count": 9,
   "metadata": {
    "collapsed": false
   },
   "outputs": [
    {
     "data": {
      "text/plain": [
       "147.31422222222224"
      ]
     },
     "execution_count": 9,
     "metadata": {},
     "output_type": "execute_result"
    }
   ],
   "source": [
    "# Average number of interactions with phones, per user per day\n",
    "DF.shape[0]/50/90  "
   ]
  },
  {
   "cell_type": "code",
   "execution_count": 13,
   "metadata": {
    "collapsed": false
   },
   "outputs": [
    {
     "name": "stdout",
     "output_type": "stream",
     "text": [
      "48\n"
     ]
    },
    {
     "data": {
      "text/plain": [
       "array(['aa2e99301a', 'fdbca31c28', 'bca57e81a1', '1775bd8416',\n",
       "       '8960d74df5', '6e200090ee', 'abd6f757b8', 'a4f29791af',\n",
       "       '1a1a12314b', '2cd992fd5e', '94a2bee0bd', '0a50e09262',\n",
       "       '5c1f751a99', '97dcbc4c4e', 'fe186dc437', '65f42fb278',\n",
       "       '860550d355', '73e9841e35', '55153967c4', 'e0bf6beeb3',\n",
       "       'fd2db8f0be', '55bd790216', '68a5ffab20', 'dd25a68e9e',\n",
       "       '9f7c0cf3ba', 'ffaf2c6521', '8ef449026a', '56d7a3b146',\n",
       "       'b298fa1895', '9c75d26567', '97bb95f55a', '831b42eaa1',\n",
       "       '688dccef72', 'ec3b3592f1', '72edf5f08f', '909a83fa62',\n",
       "       'cfdf8f8818', 'e306e8a7c9', 'd8d16595c6', 'b63c849327',\n",
       "       'd35184bc22', 'f68d404dec', '3e9c54bce7', 'e22b9f3772',\n",
       "       '6fec24656a', '5e9275b594', 'a582442b42', '5b76bedcac'], dtype=object)"
      ]
     },
     "execution_count": 13,
     "metadata": {},
     "output_type": "execute_result"
    }
   ],
   "source": [
    "# Print out a list of all users, which can be used to select a particular user from larger datasets if needed\n",
    "print(len(DF['userid'].unique()))\n",
    "DF['userid'].unique()  "
   ]
  },
  {
   "cell_type": "code",
   "execution_count": 79,
   "metadata": {
    "collapsed": false
   },
   "outputs": [
    {
     "data": {
      "text/plain": [
       "(20297, 4)"
      ]
     },
     "execution_count": 79,
     "metadata": {},
     "output_type": "execute_result"
    }
   ],
   "source": [
    "# Example of selecting one user:\n",
    "DF2 = DF[DF['userid']=='aa2e99301a']\n",
    "DF2.shape"
   ]
  },
  {
   "cell_type": "code",
   "execution_count": 19,
   "metadata": {
    "collapsed": false
   },
   "outputs": [],
   "source": [
    "import matplotlib.pyplot as plt \n",
    "import seaborn\n",
    "%matplotlib inline"
   ]
  },
  {
   "cell_type": "code",
   "execution_count": 22,
   "metadata": {
    "collapsed": false
   },
   "outputs": [],
   "source": [
    "# Count the number of screen on ==True for a given time interval: \n",
    "\n",
    "from datetime import datetime, timedelta\n",
    "from itertools import groupby\n",
    "\n"
   ]
  },
  {
   "cell_type": "code",
   "execution_count": 27,
   "metadata": {
    "collapsed": false
   },
   "outputs": [
    {
     "name": "stdout",
     "output_type": "stream",
     "text": [
      "2016-07-01 00:02:14.563000\n"
     ]
    }
   ],
   "source": [
    "# Convert unix timestamp to datetime object, so that we can extract different time and group the data accordingly\n",
    "dt_obj = datetime.utcfromtimestamp(DF['uuid'][0]/1000) # this is UTC. \n",
    "print(dt_obj)"
   ]
  },
  {
   "cell_type": "code",
   "execution_count": 55,
   "metadata": {
    "collapsed": false
   },
   "outputs": [
    {
     "name": "stdout",
     "output_type": "stream",
     "text": [
      "2016-07-01 03:02:14.563000\n"
     ]
    }
   ],
   "source": [
    "# Israel time is normally two hours plus UTC, but here it is 3 hours, as shown in the head observations\n",
    "dt_obj = datetime.utcfromtimestamp(DF['uuid'][0]/1000)+ timedelta(minutes=180) \n",
    "print(dt_obj)"
   ]
  },
  {
   "cell_type": "code",
   "execution_count": 56,
   "metadata": {
    "collapsed": false
   },
   "outputs": [
    {
     "name": "stdout",
     "output_type": "stream",
     "text": [
      "2016\n",
      "7\n",
      "1\n",
      "3\n",
      "2\n",
      "4\n"
     ]
    }
   ],
   "source": [
    "# Extract different components of time\n",
    "\n",
    "print(dt_obj.year)\n",
    "print(dt_obj.month)\n",
    "print(dt_obj.day)\n",
    "print(dt_obj.hour)\n",
    "print(dt_obj.minute)\n",
    "\n",
    "print(dt_obj.weekday()) #Monday is 0 and Sunday is 6"
   ]
  },
  {
   "cell_type": "code",
   "execution_count": 63,
   "metadata": {
    "collapsed": false
   },
   "outputs": [
    {
     "name": "stdout",
     "output_type": "stream",
     "text": [
      "2016-07-01 03:02:14.562000\n"
     ]
    }
   ],
   "source": [
    "# Alternatively we can get datetime from the string: \n",
    "# If we have string data, this is probably more robust as it directly reflects the influence in summer time\n",
    "dt_obj = datetime.strptime(DF['timestamp'][0], \"%Y-%m-%d %H:%M:%S.%f\")\n",
    "print(dt_obj)"
   ]
  },
  {
   "cell_type": "code",
   "execution_count": 64,
   "metadata": {
    "collapsed": false
   },
   "outputs": [
    {
     "name": "stderr",
     "output_type": "stream",
     "text": [
      "/Users/tesarylin/anaconda/lib/python3.5/site-packages/ipykernel/__main__.py:1: SettingWithCopyWarning: \n",
      "A value is trying to be set on a copy of a slice from a DataFrame.\n",
      "Try using .loc[row_indexer,col_indexer] = value instead\n",
      "\n",
      "See the caveats in the documentation: http://pandas.pydata.org/pandas-docs/stable/indexing.html#indexing-view-versus-copy\n",
      "  if __name__ == '__main__':\n"
     ]
    }
   ],
   "source": [
    "DF2['time'] = DF2['timestamp'].apply(lambda x: datetime.strptime(x, \"%Y-%m-%d %H:%M:%S.%f\"))"
   ]
  },
  {
   "cell_type": "code",
   "execution_count": 66,
   "metadata": {
    "collapsed": false
   },
   "outputs": [],
   "source": [
    "#del DF2['timestamp']"
   ]
  },
  {
   "cell_type": "code",
   "execution_count": 68,
   "metadata": {
    "collapsed": false
   },
   "outputs": [
    {
     "data": {
      "text/html": [
       "<div>\n",
       "<table border=\"1\" class=\"dataframe\">\n",
       "  <thead>\n",
       "    <tr style=\"text-align: right;\">\n",
       "      <th></th>\n",
       "      <th>uuid</th>\n",
       "      <th>screenon</th>\n",
       "    </tr>\n",
       "    <tr>\n",
       "      <th>time</th>\n",
       "      <th></th>\n",
       "      <th></th>\n",
       "    </tr>\n",
       "  </thead>\n",
       "  <tbody>\n",
       "    <tr>\n",
       "      <th>2016-07-31</th>\n",
       "      <td>9521921141953968</td>\n",
       "      <td>3250.0</td>\n",
       "    </tr>\n",
       "    <tr>\n",
       "      <th>2016-08-31</th>\n",
       "      <td>9922673990210574</td>\n",
       "      <td>3372.0</td>\n",
       "    </tr>\n",
       "    <tr>\n",
       "      <th>2016-09-30</th>\n",
       "      <td>10420751057245682</td>\n",
       "      <td>3528.0</td>\n",
       "    </tr>\n",
       "  </tbody>\n",
       "</table>\n",
       "</div>"
      ],
      "text/plain": [
       "                         uuid  screenon\n",
       "time                                   \n",
       "2016-07-31   9521921141953968    3250.0\n",
       "2016-08-31   9922673990210574    3372.0\n",
       "2016-09-30  10420751057245682    3528.0"
      ]
     },
     "execution_count": 68,
     "metadata": {},
     "output_type": "execute_result"
    }
   ],
   "source": [
    "DF2.index = DF2['time']\n",
    "\n",
    "# After indexing by datetime we can directly use resample() to group by time\n",
    "DF2.resample('M').sum()  #frequency by month"
   ]
  },
  {
   "cell_type": "code",
   "execution_count": 74,
   "metadata": {
    "collapsed": false
   },
   "outputs": [
    {
     "data": {
      "text/html": [
       "<div>\n",
       "<table border=\"1\" class=\"dataframe\">\n",
       "  <thead>\n",
       "    <tr style=\"text-align: right;\">\n",
       "      <th></th>\n",
       "      <th>uuid</th>\n",
       "      <th>screenon</th>\n",
       "    </tr>\n",
       "    <tr>\n",
       "      <th>time</th>\n",
       "      <th></th>\n",
       "      <th></th>\n",
       "    </tr>\n",
       "  </thead>\n",
       "  <tbody>\n",
       "    <tr>\n",
       "      <th>2016-07-03</th>\n",
       "      <td>887825803823082</td>\n",
       "      <td>304.0</td>\n",
       "    </tr>\n",
       "    <tr>\n",
       "      <th>2016-07-10</th>\n",
       "      <td>2395555370287061</td>\n",
       "      <td>816.0</td>\n",
       "    </tr>\n",
       "    <tr>\n",
       "      <th>2016-07-17</th>\n",
       "      <td>2599147791069532</td>\n",
       "      <td>888.0</td>\n",
       "    </tr>\n",
       "    <tr>\n",
       "      <th>2016-07-24</th>\n",
       "      <td>2059579551328224</td>\n",
       "      <td>702.0</td>\n",
       "    </tr>\n",
       "    <tr>\n",
       "      <th>2016-07-31</th>\n",
       "      <td>1579812625446037</td>\n",
       "      <td>540.0</td>\n",
       "    </tr>\n",
       "    <tr>\n",
       "      <th>2016-08-07</th>\n",
       "      <td>973383709821078</td>\n",
       "      <td>331.0</td>\n",
       "    </tr>\n",
       "    <tr>\n",
       "      <th>2016-08-14</th>\n",
       "      <td>2463758008213030</td>\n",
       "      <td>837.0</td>\n",
       "    </tr>\n",
       "    <tr>\n",
       "      <th>2016-08-21</th>\n",
       "      <td>2313171180088345</td>\n",
       "      <td>787.0</td>\n",
       "    </tr>\n",
       "    <tr>\n",
       "      <th>2016-08-28</th>\n",
       "      <td>2620273244786411</td>\n",
       "      <td>890.0</td>\n",
       "    </tr>\n",
       "    <tr>\n",
       "      <th>2016-09-04</th>\n",
       "      <td>2914467717623931</td>\n",
       "      <td>989.0</td>\n",
       "    </tr>\n",
       "    <tr>\n",
       "      <th>2016-09-11</th>\n",
       "      <td>2598852135383509</td>\n",
       "      <td>879.0</td>\n",
       "    </tr>\n",
       "    <tr>\n",
       "      <th>2016-09-18</th>\n",
       "      <td>2275699216640494</td>\n",
       "      <td>768.0</td>\n",
       "    </tr>\n",
       "    <tr>\n",
       "      <th>2016-09-25</th>\n",
       "      <td>2134986999401246</td>\n",
       "      <td>726.0</td>\n",
       "    </tr>\n",
       "    <tr>\n",
       "      <th>2016-10-02</th>\n",
       "      <td>2048832835498244</td>\n",
       "      <td>693.0</td>\n",
       "    </tr>\n",
       "  </tbody>\n",
       "</table>\n",
       "</div>"
      ],
      "text/plain": [
       "                        uuid  screenon\n",
       "time                                  \n",
       "2016-07-03   887825803823082     304.0\n",
       "2016-07-10  2395555370287061     816.0\n",
       "2016-07-17  2599147791069532     888.0\n",
       "2016-07-24  2059579551328224     702.0\n",
       "2016-07-31  1579812625446037     540.0\n",
       "2016-08-07   973383709821078     331.0\n",
       "2016-08-14  2463758008213030     837.0\n",
       "2016-08-21  2313171180088345     787.0\n",
       "2016-08-28  2620273244786411     890.0\n",
       "2016-09-04  2914467717623931     989.0\n",
       "2016-09-11  2598852135383509     879.0\n",
       "2016-09-18  2275699216640494     768.0\n",
       "2016-09-25  2134986999401246     726.0\n",
       "2016-10-02  2048832835498244     693.0"
      ]
     },
     "execution_count": 74,
     "metadata": {},
     "output_type": "execute_result"
    }
   ],
   "source": [
    "#DF2.resample('D').sum()  #frequency by day\n",
    "DF2.resample('W').sum()  #frequency by week\n",
    "#DF2.resample('H').sum()  #frequency by hour"
   ]
  },
  {
   "cell_type": "markdown",
   "metadata": {},
   "source": [
    "It's apparent that above are all sequential. e.g. First week, second week, etc.\n",
    "\n",
    "If instead we want to get a sense of weekday effect, we can use the following method:"
   ]
  },
  {
   "cell_type": "code",
   "execution_count": 84,
   "metadata": {
    "collapsed": false
   },
   "outputs": [
    {
     "name": "stderr",
     "output_type": "stream",
     "text": [
      "/Users/tesarylin/anaconda/lib/python3.5/site-packages/ipykernel/__main__.py:1: SettingWithCopyWarning: \n",
      "A value is trying to be set on a copy of a slice from a DataFrame.\n",
      "Try using .loc[row_indexer,col_indexer] = value instead\n",
      "\n",
      "See the caveats in the documentation: http://pandas.pydata.org/pandas-docs/stable/indexing.html#indexing-view-versus-copy\n",
      "  if __name__ == '__main__':\n",
      "/Users/tesarylin/anaconda/lib/python3.5/site-packages/ipykernel/__main__.py:2: SettingWithCopyWarning: \n",
      "A value is trying to be set on a copy of a slice from a DataFrame.\n",
      "Try using .loc[row_indexer,col_indexer] = value instead\n",
      "\n",
      "See the caveats in the documentation: http://pandas.pydata.org/pandas-docs/stable/indexing.html#indexing-view-versus-copy\n",
      "  from ipykernel import kernelapp as app\n"
     ]
    }
   ],
   "source": [
    "DF2['hour'] = DF2['timestamp'].apply(lambda x: datetime.strptime(x, \"%Y-%m-%d %H:%M:%S.%f\").hour)\n",
    "DF2['week'] = DF2['timestamp'].apply(lambda x: datetime.strptime(x, \"%Y-%m-%d %H:%M:%S.%f\").weekday())\n",
    "\n"
   ]
  },
  {
   "cell_type": "code",
   "execution_count": 109,
   "metadata": {
    "collapsed": false
   },
   "outputs": [],
   "source": [
    "#DF2['screenon'].groupby([DF2['week'], DF2['hour']]).sum()  # example of how to group by two columns"
   ]
  },
  {
   "cell_type": "code",
   "execution_count": 112,
   "metadata": {
    "collapsed": false
   },
   "outputs": [
    {
     "ename": "NameError",
     "evalue": "name 'key' is not defined",
     "output_type": "error",
     "traceback": [
      "\u001b[0;31m---------------------------------------------------------------------------\u001b[0m",
      "\u001b[0;31mNameError\u001b[0m                                 Traceback (most recent call last)",
      "\u001b[0;32m<ipython-input-112-746c610759a7>\u001b[0m in \u001b[0;36m<module>\u001b[0;34m()\u001b[0m\n\u001b[0;32m----> 1\u001b[0;31m \u001b[0mkey\u001b[0m \u001b[0;32min\u001b[0m \u001b[0mDF3\u001b[0m\u001b[0;34m\u001b[0m\u001b[0m\n\u001b[0m",
      "\u001b[0;31mNameError\u001b[0m: name 'key' is not defined"
     ]
    }
   ],
   "source": []
  },
  {
   "cell_type": "code",
   "execution_count": 89,
   "metadata": {
    "collapsed": false
   },
   "outputs": [
    {
     "data": {
      "text/plain": [
       "<matplotlib.axes._subplots.AxesSubplot at 0x10cc230f0>"
      ]
     },
     "execution_count": 89,
     "metadata": {},
     "output_type": "execute_result"
    },
    {
     "data": {
      "image/png": "[encoded data removed]",
      "text/plain": [
       "<matplotlib.figure.Figure at 0x10cc2a908>"
      ]
     },
     "metadata": {},
     "output_type": "display_data"
    }
   ],
   "source": [
    "# And visualize:\n",
    "\n",
    "fig, ax = plt.subplots(figsize = (15,6))\n",
    "DF2['screenon'].groupby([DF2['week'], DF2['hour']]).sum().plot()"
   ]
  },
  {
   "cell_type": "code",
   "execution_count": null,
   "metadata": {
    "collapsed": false
   },
   "outputs": [],
   "source": [
    "# Or, to see each bar more clearly: \n",
    "\n",
    "fig, ax = plt.subplots(figsize = (15,6))\n",
    "DF2['screenon'].groupby([DF2['week'], DF2['hour']]).sum().plot(kind = 'bar')\n"
   ]
  }
 ],
 "metadata": {
  "kernelspec": {
   "display_name": "Python 3",
   "language": "python",
   "name": "python3"
  },
  "language_info": {
   "codemirror_mode": {
    "name": "ipython",
    "version": 3
   },
   "file_extension": ".py",
   "mimetype": "text/x-python",
   "name": "python",
   "nbconvert_exporter": "python",
   "pygments_lexer": "ipython3",
   "version": "3.5.2"
  }
 },
 "nbformat": 4,
 "nbformat_minor": 0
}
